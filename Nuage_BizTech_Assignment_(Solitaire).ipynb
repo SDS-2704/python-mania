{
  "nbformat": 4,
  "nbformat_minor": 0,
  "metadata": {
    "colab": {
      "name": "Nuage BizTech Assignment (Solitaire)",
      "provenance": [],
      "collapsed_sections": [],
      "authorship_tag": "ABX9TyMNbwUUgeSuAnyeqn2t2fjV",
      "include_colab_link": true
    },
    "kernelspec": {
      "name": "python3",
      "display_name": "Python 3"
    }
  },
  "cells": [
    {
      "cell_type": "markdown",
      "metadata": {
        "id": "view-in-github",
        "colab_type": "text"
      },
      "source": [
        "<a href=\"https://colab.research.google.com/github/SDS-2704/python-mania/blob/master/Nuage_BizTech_Assignment_(Solitaire).ipynb\" target=\"_parent\"><img src=\"https://colab.research.google.com/assets/colab-badge.svg\" alt=\"Open In Colab\"/></a>"
      ]
    },
    {
      "cell_type": "markdown",
      "metadata": {
        "id": "bBdgi6i9W1x-",
        "colab_type": "text"
      },
      "source": [
        "# **Nuage BizTech Assignment (Solitaire)**"
      ]
    },
    {
      "cell_type": "markdown",
      "metadata": {
        "id": "meh2aLGTP2jp",
        "colab_type": "text"
      },
      "source": [
        "# **Solitaire Solver**\n",
        "\n",
        "**Instructions**\n",
        "\n",
        "You need to build an application (command line) that would solve Peg Solitaire game.\n",
        "\n",
        "**Peg Solitaire**\n",
        "\n",
        "Peg Solitaire is a single player board game involving movement of pegs on a board with holes. The\n",
        "standard game fills the entire board with pegs except for the central hole. The objective is, making\n",
        "valid moves, to empty the entire board except for a solitary peg in the central hole.\n",
        "\n",
        "**Board**\n",
        "\n",
        "The board that you need to solve is German type with 45 holes.\n",
        "\n",
        "![alt text](https://drive.google.com/uc?id=1uXA7ILk7TxTN-wU6DGV7WVQ3gcoRVQx7)\n",
        "\n",
        "**Moves**\n",
        "\n",
        "A valid move is to jump a peg orthogonally over an adjacent peg into a hole two positions away and\n",
        "then to remove the jumped peg.\n",
        "\n",
        "**Output**\n",
        "\n",
        "The steps to achieve the objective must be saved in an output file.\n",
        "\n",
        "**Language Choice**\n",
        "\n",
        "NodeJS or Python or Go\n",
        "\n",
        "*DO NOT USE JAVA or .NET*\n",
        "\n",
        "**Evaluation Process**\n",
        "\n",
        "The evaluation has following stages: \n",
        "\n",
        "**Requirement Analysis:**\n",
        "\n",
        "  ◦ Duration: 30 minutes\n",
        "\n",
        "  ◦ Add more details to requirement that has been provided\n",
        "\n",
        "**• Design:**\n",
        "\n",
        "  ◦ Duration: 30 minutes\n",
        "  ◦ Articulate the representation, strategy, moves, algorithm etc. in detail\n",
        "\n",
        "**• Implementation:**\n",
        "\n",
        "  ◦ Duration: 1-2 days\n",
        "\n",
        "  ◦ The actual environment setup and implementation should be done during this time. You\n",
        "should be able to demonstrate a working application after completion of this stage\n",
        "based on the requirement.\n",
        "\n",
        "**• Testing:**\n",
        "\n",
        "  ◦ Duration: 15 minutes\n",
        "\n",
        "  ◦ This will be done at Nuage by our testers.\n",
        "\n",
        "**Submissions:** Brief writeup of functionality, design documents, working code in GIT repository (you\n",
        "may create your own repository and share access), outputs /screenshots / dumps as applicable."
      ]
    },
    {
      "cell_type": "markdown",
      "metadata": {
        "id": "aTLCZ3L2ipln",
        "colab_type": "text"
      },
      "source": [
        "# **Language Choice : Python3**"
      ]
    },
    {
      "cell_type": "markdown",
      "metadata": {
        "id": "7os_6XG5yQrT",
        "colab_type": "text"
      },
      "source": [
        "**Importing all the necessary libraries and defining the variables / constants required ahead in the execution of this program.**\n",
        "\n",
        "\n",
        "**CONSTANTS :-**\n",
        "\n",
        "- BOARD_WIDTH & BOARD_HEIGHT are 9 each because we are working on a 45 holes Peg Solitaire Board. \n",
        "- size_EMPTY_CORNER is 3 so as to provide empty cells / formation to each of the 4 corners of 3X3 grid each.\n",
        "\n",
        "**VARIABLES :-**\n",
        "\n",
        "- **game_Board** is an empty dictionary defined by me which will be used to generate the Peg Solitaire board in the form of a key-value paiting. Wherein, the key which will be referred to as item in the later code is of the form (x,y) where x is the row index and y being the column index. You may also consider them like x-axis / y-axis co-ordinates.\n",
        "\n",
        "- **store_Boards** is a list which will be used to keep a record of all the moves/steps made (their deepcopies of the game_Board snapshot) in our way to a successful solution.\n",
        "\n",
        "- **step_count** is to keep a track on the count of the steps/moves made in order to achieve the solution. The solution for us to achieve the game_Board with just one peg ('X') left on the board."
      ]
    },
    {
      "cell_type": "code",
      "metadata": {
        "id": "GTDkgXx0P_7T",
        "colab_type": "code",
        "colab": {}
      },
      "source": [
        "import copy\n",
        "import datetime\n",
        "\n",
        "#Defining all the constants, am going to use globally in this program\n",
        "BOARD_WIDTH = 9\n",
        "BOARD_HEIGHT = 9\n",
        "size_EMPTY_CORNER = 3\n",
        "\n",
        "#Defining all the variables, am going to make use of, globally in the program\n",
        "game_Board = {}\n",
        "store_Boards = []\n",
        "step_count = 0"
      ],
      "execution_count": 3,
      "outputs": []
    },
    {
      "cell_type": "markdown",
      "metadata": {
        "id": "z8Jp9NYMyFIl",
        "colab_type": "text"
      },
      "source": [
        "**Let's setup a fully populated 9x9 Peg Solitaire Board.**"
      ]
    },
    {
      "cell_type": "code",
      "metadata": {
        "id": "ASYWotubyELg",
        "colab_type": "code",
        "colab": {}
      },
      "source": [
        "def setup_solitaire_board(board):\n",
        "    for y in range (BOARD_HEIGHT):\n",
        "        for x in range (BOARD_WIDTH):\n",
        "            if ((x in range(0,size_EMPTY_CORNER) or x in range(BOARD_WIDTH-size_EMPTY_CORNER,BOARD_WIDTH))\n",
        "             and (y in range(0,size_EMPTY_CORNER) or y in range(BOARD_HEIGHT-size_EMPTY_CORNER,BOARD_HEIGHT))):\n",
        "                board[x,y] = ' '\n",
        "            elif x == (BOARD_WIDTH//2) and y == (BOARD_HEIGHT//2):\n",
        "                board[x,y] = 'O'\n",
        "            else: \n",
        "                board[x,y] = 'X'\n",
        "    return board"
      ],
      "execution_count": 4,
      "outputs": []
    },
    {
      "cell_type": "markdown",
      "metadata": {
        "id": "NuPhYQQOosqW",
        "colab_type": "text"
      },
      "source": [
        "![alt text](https://drive.google.com/uc?id=1WKJGYzyzXdll9xsjtt2Z_SnjuGC0XsK5)\n"
      ]
    },
    {
      "cell_type": "markdown",
      "metadata": {
        "id": "zFBuhE7XRLGN",
        "colab_type": "text"
      },
      "source": [
        "**I learnt over the internet that there are some other approaches / fashions to solve the Peg Solitaire Board problem. Apart from a full-board pattern, people across the world also solve Peg Solitaire on a Cross, Plus, Arrow, Fireplace, Pyramid & Diamond pattern boards too.** \n",
        "\n",
        "**If we'd require, we can also consider the following peice/s of codes(functions) to create a full Peg board for each of the mentioned patterns/architectures.**"
      ]
    },
    {
      "cell_type": "code",
      "metadata": {
        "id": "_2taHKPlPf6Q",
        "colab_type": "code",
        "colab": {}
      },
      "source": [
        "def setupCross(board):\n",
        "    board = setup_solitaire_board(board)\n",
        "    board[2,0] = 'O'\n",
        "    board[3,0] = 'O'\n",
        "    board[4,0] = 'O'\n",
        "    board[2,1] = 'O'\n",
        "    board[4,1] = 'O'\n",
        "    board[0,2] = 'O'\n",
        "    board[1,2] = 'O'\n",
        "    board[5,2] = 'O'\n",
        "    board[6,2] = 'O'\n",
        "    board[0,3] = 'O'\n",
        "    board[1,3] = 'O'\n",
        "    board[2,3] = 'O'\n",
        "    board[4,3] = 'O'\n",
        "    board[5,3] = 'O'\n",
        "    board[6,3] = 'O'\n",
        "    board[0,4] = 'O'\n",
        "    board[1,4] = 'O'\n",
        "    board[2,4] = 'O'\n",
        "    board[4,4] = 'O'\n",
        "    board[5,4] = 'O'\n",
        "    board[6,4] = 'O'\n",
        "    board[2,5] = 'O'\n",
        "    board[3,5] = 'O'\n",
        "    board[4,5] = 'O'\n",
        "    board[2,6] = 'O'\n",
        "    board[3,6] = 'O'\n",
        "    board[4,6] = 'O'\n",
        "    board[3,3] = 'X'\n",
        "    \n",
        "    return board\n",
        "\n",
        "def setupPlus(board):\n",
        "    board = setup_solitaire_board(board)\n",
        "    board[2,0] = 'O'\n",
        "    board[3,0] = 'O'\n",
        "    board[4,0] = 'O'\n",
        "    board[2,1] = 'O'\n",
        "    board[4,1] = 'O'\n",
        "    board[0,2] = 'O'\n",
        "    board[1,2] = 'O'\n",
        "    board[2,2] = 'O'\n",
        "    board[4,2] = 'O'\n",
        "    board[5,2] = 'O'\n",
        "    board[6,2] = 'O'\n",
        "    board[0,3] = 'O'\n",
        "    board[6,3] = 'O'\n",
        "    board[0,4] = 'O'\n",
        "    board[1,4] = 'O'\n",
        "    board[2,4] = 'O'\n",
        "    board[4,4] = 'O'\n",
        "    board[5,4] = 'O'\n",
        "    board[6,4] = 'O'\n",
        "    board[2,5] = 'O'\n",
        "    board[4,5] = 'O'\n",
        "    board[2,6] = 'O'\n",
        "    board[3,6] = 'O'\n",
        "    board[4,6] = 'O'\n",
        "    board[3,3] = 'X'\n",
        "    return board\n",
        "\n",
        "def setupFireplace(board):\n",
        "    board = setup_solitaire_board(board)\n",
        "    board[0,2] = 'O'\n",
        "    board[1,2] = 'O'\n",
        "    board[5,2] = 'O'\n",
        "    board[6,2] = 'O'\n",
        "    board[0,3] = 'O'\n",
        "    board[1,3] = 'O'\n",
        "    board[3,3] = 'O'\n",
        "    board[5,3] = 'O'\n",
        "    board[6,3] = 'O'\n",
        "    board[0,4] = 'O'\n",
        "    board[1,4] = 'O'\n",
        "    board[2,4] = 'O'\n",
        "    board[3,4] = 'O'\n",
        "    board[4,4] = 'O'\n",
        "    board[5,4] = 'O'\n",
        "    board[6,4] = 'O'\n",
        "    board[2,5] = 'O'\n",
        "    board[3,5] = 'O'\n",
        "    board[4,5] = 'O'\n",
        "    board[2,6] = 'O'\n",
        "    board[3,6] = 'O'\n",
        "    board[4,6] = 'O'\n",
        "    return board   \n",
        "\n",
        "def setupPyramid(board):\n",
        "    board = setup_solitaire_board(board)\n",
        "    board[2,0] = 'O'\n",
        "    board[3,0] = 'O'\n",
        "    board[4,0] = 'O'\n",
        "    board[2,1] = 'O'\n",
        "    board[4,1] = 'O'\n",
        "    board[0,2] = 'O'\n",
        "    board[1,2] = 'O'\n",
        "    board[5,2] = 'O'\n",
        "    board[6,2] = 'O'\n",
        "    board[0,3] = 'O'\n",
        "    board[6,3] = 'O'\n",
        "    board[2,5] = 'O'\n",
        "    board[3,5] = 'O'\n",
        "    board[4,5] = 'O'\n",
        "    board[2,6] = 'O'\n",
        "    board[3,6] = 'O'\n",
        "    board[4,6] = 'O'\n",
        "    board[3,3] = 'X'\n",
        "    return board \n",
        "\n",
        "def setupArrow(board):\n",
        "    board = setup_solitaire_board(board)\n",
        "    board[2,0] = 'O'\n",
        "    board[4,0] = 'O'\n",
        "    board[0,2] = 'O'\n",
        "    board[6,2] = 'O'\n",
        "    board[0,3] = 'O'\n",
        "    board[1,3] = 'O'\n",
        "    board[2,3] = 'O'\n",
        "    board[4,3] = 'O'\n",
        "    board[5,3] = 'O'\n",
        "    board[6,3] = 'O'\n",
        "    board[0,4] = 'O'\n",
        "    board[1,4] = 'O'\n",
        "    board[2,4] = 'O'\n",
        "    board[4,4] = 'O'\n",
        "    board[5,4] = 'O'\n",
        "    board[6,4] = 'O'\n",
        "    board[3,3] = 'X'\n",
        "    return board\n",
        "\n",
        "def setupDiamond(board):\n",
        "    board = setup_solitaire_board(board)\n",
        "    board[2,0] = 'O'\n",
        "    board[4,0] = 'O'\n",
        "    board[0,2] = 'O'\n",
        "    board[6,2] = 'O'\n",
        "    board[0,4] = 'O'\n",
        "    board[6,4] = 'O' \n",
        "    board[2,6] = 'O'\n",
        "    board[4,6] = 'O'\n",
        "    board[3,3] = 'X'\n",
        "    return board"
      ],
      "execution_count": 5,
      "outputs": []
    },
    {
      "cell_type": "markdown",
      "metadata": {
        "id": "505P6O6ZQLaH",
        "colab_type": "text"
      },
      "source": [
        "**Let us look at how the board looks like :-**"
      ]
    },
    {
      "cell_type": "code",
      "metadata": {
        "id": "drokgwjBQDYq",
        "colab_type": "code",
        "colab": {}
      },
      "source": [
        "def print_board(board):\n",
        "    for y in range(BOARD_HEIGHT):\n",
        "        for x in range(BOARD_WIDTH):\n",
        "            print(board[x,y], end = \" \") #The end prevents new lines being printed \n",
        "            outFile.writelines(board[x,y])   \n",
        "        print('\\n')\n",
        "        outFile.writelines('\\n')\n",
        "    print('\\n')\n",
        "    outFile.writelines('\\n')\n",
        "    return None"
      ],
      "execution_count": 6,
      "outputs": []
    },
    {
      "cell_type": "markdown",
      "metadata": {
        "id": "luhg-mE8QxkB",
        "colab_type": "text"
      },
      "source": [
        "**Through the check_result function, we check at every instance whether the total count of pegs that remain on the solitaire board. If the given pegs count is greater than 1, then we will return False, which means the Peg Solitaire is still unsolved. The reason being, for a Peg Solitaire to be called solved, we require only 1 peg to remain at the central hole on the Peg Solitaire board.**"
      ]
    },
    {
      "cell_type": "code",
      "metadata": {
        "id": "-PQQw_jXQwBW",
        "colab_type": "code",
        "colab": {}
      },
      "source": [
        "def check_result(board):\n",
        "    count = 0\n",
        "    for item in board:\n",
        "        if board[item] == 'X':\n",
        "            count += 1 \n",
        "            if count > 1:\n",
        "              return False\n",
        "    if count == 1:# The count must be 1\n",
        "        return True "
      ],
      "execution_count": 7,
      "outputs": []
    },
    {
      "cell_type": "markdown",
      "metadata": {
        "id": "qH5RuJ0cQyg7",
        "colab_type": "text"
      },
      "source": [
        "In the following **possible_moves** function, we are going to use the **Depth-First-Search approach.**\n",
        "\n",
        "**Depth First Search** (DFS) is a traversal technique, wherein, unlike Breadth-First-Search (BFS), we only explore/visit one of the adjacent unvisited vertices and not all. The data structure that is generally adopted to accomplish DFS is a Stack.\n",
        "\n",
        "On the contrary in case of BFS, we explore all adjacent unvisited vertices. The data structure that is generally adopted to accomplish BFS is a Queue.\n",
        "\n",
        "# So what does this function achieve?\n",
        "\n",
        "- Firstly, we check that the current state of the game_Board has achieved the solution or not for which we call the check_result function and check if we get True returned. \n",
        "\n",
        "- So, naturally if we check the result in the first step, there has to be an \"else\" step as well wherein, we define the possible moves that can be made, which is either **TOP**, **DOWN**, **LEFT**, or, **RIGHT**.\n",
        "\n",
        "- The ideation of the possible move is such, that the peg ('X') should be anywhere in the movable position / space :- \n",
        "\n",
        "-- that it should most importantly have an empty hole in the next to next hole(P + 2)  from its current position (P) so that it can successfully insert itself at that position(P + 2). \n",
        "\n",
        "-- Next, the peg that it jumps over (the one that is immediately next to it, i.e. P + 1) should have a peg ('X') too in it. \n",
        "\n",
        "-- This peg at P + 1 position gets updated with ('O') when the jump/move is made because that is how the Peg Solitaire suggests as removing the jumped over peg.\n",
        "\n",
        "- Also, at the same time it is important that we check that the x & y co-ordinates of peg we are going to move (at the current position P) are between 1 (as x co-ordinate to check for left move), 1 (as y co-ordinate to check for bottom move), BOARD_WIDTH - 2 (for right move) & BOARD_HEIGHT - 2 (for top move) respectively, so that after making a move the peg does not move beyond the board limit.\n",
        "\n",
        "- We use a deep copy at every move made, which is different from the original board, and append it to the **store_Boards** list which we have made to keep a record of all the successful steps / moves in our way to the final solution. We then call the possible_moves function recursively with the deep copy of the **game_Board** dict, and remove the deep copy from the store_Boards list if the solution is not achieved. This also basically defines the recursive nature of the function possible_moves and the idea of **Depth-First-Search**."
      ]
    },
    {
      "cell_type": "code",
      "metadata": {
        "id": "aZNVPNhrQzW0",
        "colab_type": "code",
        "colab": {}
      },
      "source": [
        "def possible_moves(game_Board,step_count):\n",
        "\n",
        "    if check_result(game_Board) == True:\n",
        "        outFile.writelines('Start Solution\\n\\n')\n",
        "        for item in store_Boards:\n",
        "            print_board(item)\n",
        "         \n",
        "        outFile.writelines('End Solution\\n\\n')\n",
        "        return step_count\n",
        "\n",
        "    else:        \n",
        "        for item in game_Board:\n",
        "            ##Check if pieg can move in the right direction.\n",
        "            if item[0] < (BOARD_WIDTH - 2) and game_Board[item]=='X' and game_Board[item[0]+2,item[1]]=='O' and game_Board[item[0]+1,item[1]]=='X':\n",
        "                new = copy.deepcopy(game_Board)\n",
        "                new[item] = 'O'\n",
        "                new[item[0]+2,item[1]]='X'\n",
        "                new[item[0]+1,item[1]]='O'\n",
        "                step_count += 1\n",
        "                if (step_count % 1000000) == 0:\n",
        "                 print (step_count,'step_count')\n",
        "                if new not in store_Boards:\n",
        "                    store_Boards.append(new)\n",
        "                    step_count = possible_moves(new,step_count) #the essence of Depth-First-Search via recursive functions to explore further from the move made.\n",
        "                    store_Boards.remove(new)\n",
        "             \n",
        "            \n",
        "            ##Check if peg can move in the left direction.\n",
        "            if item[0] > (1) and game_Board[item]=='X' and game_Board[item[0]-2,item[1]]=='O' and game_Board[item[0]-1,item[1]]=='X':\n",
        "                new = copy.deepcopy(game_Board)\n",
        "                new[item] = 'O'\n",
        "                new[item[0]-2,item[1]]='X'\n",
        "                new[item[0]-1,item[1]]='O'\n",
        "                step_count += 1\n",
        "                if (step_count % 1000000) == 0:\n",
        "                 print (step_count,'step_count')\n",
        "                if new not in store_Boards:\n",
        "                    store_Boards.append(new)\n",
        "                    step_count = possible_moves(new,step_count) #the essence of Depth-First-Search via recursive functions to explore further from the move made.\n",
        "                    store_Boards.remove(new)     \n",
        "         \n",
        "             ##Check if peg can move in the top direction.\n",
        "            if item[1] < (BOARD_HEIGHT - 2) and game_Board[item]=='X' and game_Board[item[0],item[1]+2]=='O' and game_Board[item[0],item[1]+1]=='X':\n",
        "                new = copy.deepcopy(game_Board)   \n",
        "                new[item] = 'O'\n",
        "                new[item[0],item[1]+2]='X'\n",
        "                new[item[0],item[1]+1]='O'\n",
        "                step_count += 1\n",
        "                if (step_count % 1000000) == 0:\n",
        "                 print (step_count,'step_count')\n",
        "                if new not in store_Boards:\n",
        "                    store_Boards.append(new)\n",
        "                    step_count = possible_moves(new,step_count) #the essence of Depth-First-Search via recursive functions to explore further from the move made.\n",
        "                    store_Boards.remove(new)\n",
        "\n",
        "                \n",
        "             ##Check if peg can move in the bottom direction.\n",
        "            if item[1] > (1) and game_Board[item]=='X' and game_Board[item[0],item[1]-2]=='O' and game_Board[item[0],item[1]-1]=='X':\n",
        "                new = copy.deepcopy(game_Board)\n",
        "                new[item] = 'O'\n",
        "                new[item[0],item[1]-2]='X'\n",
        "                new[item[0],item[1]-1]='O'\n",
        "                step_count += 1\n",
        "                if (step_count % 1000000) == 0:\n",
        "                 print (step_count,'step_count')\n",
        "                if new not in store_Boards:\n",
        "                    store_Boards.append(new)\n",
        "                    step_count = possible_moves(new,step_count) #the essence of Depth-First-Search via recursive functions to explore further from the move made.\n",
        "                    store_Boards.remove(new)\n",
        "\n",
        "        return step_count"
      ],
      "execution_count": 8,
      "outputs": []
    },
    {
      "cell_type": "markdown",
      "metadata": {
        "id": "7705qAe0Q3iR",
        "colab_type": "text"
      },
      "source": [
        "**Let's get onto the testing part, wherein, we shall see what is the start time and entime of a successful iteraton/solution. We will begin with printing the starting board (which is the original board), followed by Start Time & End Time, and then we will print the final (solved Peg Solitatire Board).**"
      ]
    },
    {
      "cell_type": "code",
      "metadata": {
        "id": "MHAu-W6LQ4Mh",
        "colab_type": "code",
        "colab": {
          "base_uri": "https://localhost:8080/",
          "height": 435
        },
        "outputId": "558d5957-9913-4696-83bc-07a10b7875bf"
      },
      "source": [
        "startTime = datetime.datetime.now()\n",
        "outFile = open('result.txt','w') \n",
        "\n",
        "game_Board = setup_solitaire_board(game_Board)\n",
        "#game_Board = setupCross(game_Board)\n",
        "#game_Board = setupPlus(game_Board)\n",
        "#game_Board = setupFireplace(game_Board)\n",
        "#game_Board = setupPyramid(game_Board)\n",
        "#game_Board = setupArrow(game_Board)\n",
        "#game_Board = setupDiamond(game_Board)\n",
        "\n",
        "outFile.writelines('Starting Board\\n')\n",
        "\n",
        "print_board(game_Board)\n",
        "\n",
        "possible_moves(game_Board,step_count)\n",
        "\n",
        "# outFile.close()\n",
        "endTime = datetime.datetime.now()\n",
        "\n",
        "print ('Starttime = ', startTime)\n",
        "print ('EndTime = ', endTime)"
      ],
      "execution_count": null,
      "outputs": [
        {
          "output_type": "stream",
          "text": [
            "      X X X       \n",
            "\n",
            "      X X X       \n",
            "\n",
            "      X X X       \n",
            "\n",
            "X X X X X X X X X \n",
            "\n",
            "X X X X O X X X X \n",
            "\n",
            "X X X X X X X X X \n",
            "\n",
            "      X X X       \n",
            "\n",
            "      X X X       \n",
            "\n",
            "      X X X       \n",
            "\n",
            "\n",
            "\n",
            "1000000 step_count\n",
            "2000000 step_count\n",
            "3000000 step_count\n"
          ],
          "name": "stdout"
        }
      ]
    },
    {
      "cell_type": "code",
      "metadata": {
        "id": "TFxWI7auSpee",
        "colab_type": "code",
        "colab": {}
      },
      "source": [
        "print_board(game_Board)"
      ],
      "execution_count": null,
      "outputs": []
    },
    {
      "cell_type": "code",
      "metadata": {
        "id": "zcAimWOEZl9y",
        "colab_type": "code",
        "colab": {}
      },
      "source": [
        ""
      ],
      "execution_count": null,
      "outputs": []
    }
  ]
}